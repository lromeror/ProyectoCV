{
 "cells": [
  {
   "cell_type": "code",
   "execution_count": 2,
   "metadata": {},
   "outputs": [],
   "source": [
    "import numpy as np\n",
    "import pandas as pd\n",
    "import os\n",
    "import plotly.express as px\n",
    "import plotly.graph_objects as go"
   ]
  },
  {
   "cell_type": "code",
   "execution_count": 3,
   "metadata": {},
   "outputs": [
    {
     "ename": "ValueError",
     "evalue": "Worksheet named 'Hoja1' not found",
     "output_type": "error",
     "traceback": [
      "\u001b[0;31m---------------------------------------------------------------------------\u001b[0m",
      "\u001b[0;31mValueError\u001b[0m                                Traceback (most recent call last)",
      "Cell \u001b[0;32mIn[3], line 1\u001b[0m\n\u001b[0;32m----> 1\u001b[0m df \u001b[39m=\u001b[39m pd\u001b[39m.\u001b[39;49mread_excel(\u001b[39m\"\u001b[39;49m\u001b[39mhttps://raw.githubusercontent.com/lromeror/ProyectoCV/main/APP/assets/data/planificacion.xlsx\u001b[39;49m\u001b[39m\"\u001b[39;49m,sheet_name\u001b[39m=\u001b[39;49m\u001b[39m\"\u001b[39;49m\u001b[39mHoja1\u001b[39;49m\u001b[39m\"\u001b[39;49m)\n",
      "File \u001b[0;32m/Library/Frameworks/Python.framework/Versions/3.11/lib/python3.11/site-packages/pandas/io/excel/_base.py:486\u001b[0m, in \u001b[0;36mread_excel\u001b[0;34m(io, sheet_name, header, names, index_col, usecols, dtype, engine, converters, true_values, false_values, skiprows, nrows, na_values, keep_default_na, na_filter, verbose, parse_dates, date_parser, date_format, thousands, decimal, comment, skipfooter, storage_options, dtype_backend)\u001b[0m\n\u001b[1;32m    480\u001b[0m     \u001b[39mraise\u001b[39;00m \u001b[39mValueError\u001b[39;00m(\n\u001b[1;32m    481\u001b[0m         \u001b[39m\"\u001b[39m\u001b[39mEngine should not be specified when passing \u001b[39m\u001b[39m\"\u001b[39m\n\u001b[1;32m    482\u001b[0m         \u001b[39m\"\u001b[39m\u001b[39man ExcelFile - ExcelFile already has the engine set\u001b[39m\u001b[39m\"\u001b[39m\n\u001b[1;32m    483\u001b[0m     )\n\u001b[1;32m    485\u001b[0m \u001b[39mtry\u001b[39;00m:\n\u001b[0;32m--> 486\u001b[0m     data \u001b[39m=\u001b[39m io\u001b[39m.\u001b[39;49mparse(\n\u001b[1;32m    487\u001b[0m         sheet_name\u001b[39m=\u001b[39;49msheet_name,\n\u001b[1;32m    488\u001b[0m         header\u001b[39m=\u001b[39;49mheader,\n\u001b[1;32m    489\u001b[0m         names\u001b[39m=\u001b[39;49mnames,\n\u001b[1;32m    490\u001b[0m         index_col\u001b[39m=\u001b[39;49mindex_col,\n\u001b[1;32m    491\u001b[0m         usecols\u001b[39m=\u001b[39;49musecols,\n\u001b[1;32m    492\u001b[0m         dtype\u001b[39m=\u001b[39;49mdtype,\n\u001b[1;32m    493\u001b[0m         converters\u001b[39m=\u001b[39;49mconverters,\n\u001b[1;32m    494\u001b[0m         true_values\u001b[39m=\u001b[39;49mtrue_values,\n\u001b[1;32m    495\u001b[0m         false_values\u001b[39m=\u001b[39;49mfalse_values,\n\u001b[1;32m    496\u001b[0m         skiprows\u001b[39m=\u001b[39;49mskiprows,\n\u001b[1;32m    497\u001b[0m         nrows\u001b[39m=\u001b[39;49mnrows,\n\u001b[1;32m    498\u001b[0m         na_values\u001b[39m=\u001b[39;49mna_values,\n\u001b[1;32m    499\u001b[0m         keep_default_na\u001b[39m=\u001b[39;49mkeep_default_na,\n\u001b[1;32m    500\u001b[0m         na_filter\u001b[39m=\u001b[39;49mna_filter,\n\u001b[1;32m    501\u001b[0m         verbose\u001b[39m=\u001b[39;49mverbose,\n\u001b[1;32m    502\u001b[0m         parse_dates\u001b[39m=\u001b[39;49mparse_dates,\n\u001b[1;32m    503\u001b[0m         date_parser\u001b[39m=\u001b[39;49mdate_parser,\n\u001b[1;32m    504\u001b[0m         date_format\u001b[39m=\u001b[39;49mdate_format,\n\u001b[1;32m    505\u001b[0m         thousands\u001b[39m=\u001b[39;49mthousands,\n\u001b[1;32m    506\u001b[0m         decimal\u001b[39m=\u001b[39;49mdecimal,\n\u001b[1;32m    507\u001b[0m         comment\u001b[39m=\u001b[39;49mcomment,\n\u001b[1;32m    508\u001b[0m         skipfooter\u001b[39m=\u001b[39;49mskipfooter,\n\u001b[1;32m    509\u001b[0m         dtype_backend\u001b[39m=\u001b[39;49mdtype_backend,\n\u001b[1;32m    510\u001b[0m     )\n\u001b[1;32m    511\u001b[0m \u001b[39mfinally\u001b[39;00m:\n\u001b[1;32m    512\u001b[0m     \u001b[39m# make sure to close opened file handles\u001b[39;00m\n\u001b[1;32m    513\u001b[0m     \u001b[39mif\u001b[39;00m should_close:\n",
      "File \u001b[0;32m/Library/Frameworks/Python.framework/Versions/3.11/lib/python3.11/site-packages/pandas/io/excel/_base.py:1551\u001b[0m, in \u001b[0;36mExcelFile.parse\u001b[0;34m(self, sheet_name, header, names, index_col, usecols, converters, true_values, false_values, skiprows, nrows, na_values, parse_dates, date_parser, date_format, thousands, comment, skipfooter, dtype_backend, **kwds)\u001b[0m\n\u001b[1;32m   1518\u001b[0m \u001b[39mdef\u001b[39;00m \u001b[39mparse\u001b[39m(\n\u001b[1;32m   1519\u001b[0m     \u001b[39mself\u001b[39m,\n\u001b[1;32m   1520\u001b[0m     sheet_name: \u001b[39mstr\u001b[39m \u001b[39m|\u001b[39m \u001b[39mint\u001b[39m \u001b[39m|\u001b[39m \u001b[39mlist\u001b[39m[\u001b[39mint\u001b[39m] \u001b[39m|\u001b[39m \u001b[39mlist\u001b[39m[\u001b[39mstr\u001b[39m] \u001b[39m|\u001b[39m \u001b[39mNone\u001b[39;00m \u001b[39m=\u001b[39m \u001b[39m0\u001b[39m,\n\u001b[0;32m   (...)\u001b[0m\n\u001b[1;32m   1538\u001b[0m     \u001b[39m*\u001b[39m\u001b[39m*\u001b[39mkwds,\n\u001b[1;32m   1539\u001b[0m ) \u001b[39m-\u001b[39m\u001b[39m>\u001b[39m DataFrame \u001b[39m|\u001b[39m \u001b[39mdict\u001b[39m[\u001b[39mstr\u001b[39m, DataFrame] \u001b[39m|\u001b[39m \u001b[39mdict\u001b[39m[\u001b[39mint\u001b[39m, DataFrame]:\n\u001b[1;32m   1540\u001b[0m \u001b[39m    \u001b[39m\u001b[39m\"\"\"\u001b[39;00m\n\u001b[1;32m   1541\u001b[0m \u001b[39m    Parse specified sheet(s) into a DataFrame.\u001b[39;00m\n\u001b[1;32m   1542\u001b[0m \n\u001b[0;32m   (...)\u001b[0m\n\u001b[1;32m   1549\u001b[0m \u001b[39m        DataFrame from the passed in Excel file.\u001b[39;00m\n\u001b[1;32m   1550\u001b[0m \u001b[39m    \"\"\"\u001b[39;00m\n\u001b[0;32m-> 1551\u001b[0m     \u001b[39mreturn\u001b[39;00m \u001b[39mself\u001b[39;49m\u001b[39m.\u001b[39;49m_reader\u001b[39m.\u001b[39;49mparse(\n\u001b[1;32m   1552\u001b[0m         sheet_name\u001b[39m=\u001b[39;49msheet_name,\n\u001b[1;32m   1553\u001b[0m         header\u001b[39m=\u001b[39;49mheader,\n\u001b[1;32m   1554\u001b[0m         names\u001b[39m=\u001b[39;49mnames,\n\u001b[1;32m   1555\u001b[0m         index_col\u001b[39m=\u001b[39;49mindex_col,\n\u001b[1;32m   1556\u001b[0m         usecols\u001b[39m=\u001b[39;49musecols,\n\u001b[1;32m   1557\u001b[0m         converters\u001b[39m=\u001b[39;49mconverters,\n\u001b[1;32m   1558\u001b[0m         true_values\u001b[39m=\u001b[39;49mtrue_values,\n\u001b[1;32m   1559\u001b[0m         false_values\u001b[39m=\u001b[39;49mfalse_values,\n\u001b[1;32m   1560\u001b[0m         skiprows\u001b[39m=\u001b[39;49mskiprows,\n\u001b[1;32m   1561\u001b[0m         nrows\u001b[39m=\u001b[39;49mnrows,\n\u001b[1;32m   1562\u001b[0m         na_values\u001b[39m=\u001b[39;49mna_values,\n\u001b[1;32m   1563\u001b[0m         parse_dates\u001b[39m=\u001b[39;49mparse_dates,\n\u001b[1;32m   1564\u001b[0m         date_parser\u001b[39m=\u001b[39;49mdate_parser,\n\u001b[1;32m   1565\u001b[0m         date_format\u001b[39m=\u001b[39;49mdate_format,\n\u001b[1;32m   1566\u001b[0m         thousands\u001b[39m=\u001b[39;49mthousands,\n\u001b[1;32m   1567\u001b[0m         comment\u001b[39m=\u001b[39;49mcomment,\n\u001b[1;32m   1568\u001b[0m         skipfooter\u001b[39m=\u001b[39;49mskipfooter,\n\u001b[1;32m   1569\u001b[0m         dtype_backend\u001b[39m=\u001b[39;49mdtype_backend,\n\u001b[1;32m   1570\u001b[0m         \u001b[39m*\u001b[39;49m\u001b[39m*\u001b[39;49mkwds,\n\u001b[1;32m   1571\u001b[0m     )\n",
      "File \u001b[0;32m/Library/Frameworks/Python.framework/Versions/3.11/lib/python3.11/site-packages/pandas/io/excel/_base.py:746\u001b[0m, in \u001b[0;36mBaseExcelReader.parse\u001b[0;34m(self, sheet_name, header, names, index_col, usecols, dtype, true_values, false_values, skiprows, nrows, na_values, verbose, parse_dates, date_parser, date_format, thousands, decimal, comment, skipfooter, dtype_backend, **kwds)\u001b[0m\n\u001b[1;32m    743\u001b[0m     \u001b[39mprint\u001b[39m(\u001b[39mf\u001b[39m\u001b[39m\"\u001b[39m\u001b[39mReading sheet \u001b[39m\u001b[39m{\u001b[39;00masheetname\u001b[39m}\u001b[39;00m\u001b[39m\"\u001b[39m)\n\u001b[1;32m    745\u001b[0m \u001b[39mif\u001b[39;00m \u001b[39misinstance\u001b[39m(asheetname, \u001b[39mstr\u001b[39m):\n\u001b[0;32m--> 746\u001b[0m     sheet \u001b[39m=\u001b[39m \u001b[39mself\u001b[39;49m\u001b[39m.\u001b[39;49mget_sheet_by_name(asheetname)\n\u001b[1;32m    747\u001b[0m \u001b[39melse\u001b[39;00m:  \u001b[39m# assume an integer if not a string\u001b[39;00m\n\u001b[1;32m    748\u001b[0m     sheet \u001b[39m=\u001b[39m \u001b[39mself\u001b[39m\u001b[39m.\u001b[39mget_sheet_by_index(asheetname)\n",
      "File \u001b[0;32m/Library/Frameworks/Python.framework/Versions/3.11/lib/python3.11/site-packages/pandas/io/excel/_openpyxl.py:569\u001b[0m, in \u001b[0;36mOpenpyxlReader.get_sheet_by_name\u001b[0;34m(self, name)\u001b[0m\n\u001b[1;32m    568\u001b[0m \u001b[39mdef\u001b[39;00m \u001b[39mget_sheet_by_name\u001b[39m(\u001b[39mself\u001b[39m, name: \u001b[39mstr\u001b[39m):\n\u001b[0;32m--> 569\u001b[0m     \u001b[39mself\u001b[39;49m\u001b[39m.\u001b[39;49mraise_if_bad_sheet_by_name(name)\n\u001b[1;32m    570\u001b[0m     \u001b[39mreturn\u001b[39;00m \u001b[39mself\u001b[39m\u001b[39m.\u001b[39mbook[name]\n",
      "File \u001b[0;32m/Library/Frameworks/Python.framework/Versions/3.11/lib/python3.11/site-packages/pandas/io/excel/_base.py:597\u001b[0m, in \u001b[0;36mBaseExcelReader.raise_if_bad_sheet_by_name\u001b[0;34m(self, name)\u001b[0m\n\u001b[1;32m    595\u001b[0m \u001b[39mdef\u001b[39;00m \u001b[39mraise_if_bad_sheet_by_name\u001b[39m(\u001b[39mself\u001b[39m, name: \u001b[39mstr\u001b[39m) \u001b[39m-\u001b[39m\u001b[39m>\u001b[39m \u001b[39mNone\u001b[39;00m:\n\u001b[1;32m    596\u001b[0m     \u001b[39mif\u001b[39;00m name \u001b[39mnot\u001b[39;00m \u001b[39min\u001b[39;00m \u001b[39mself\u001b[39m\u001b[39m.\u001b[39msheet_names:\n\u001b[0;32m--> 597\u001b[0m         \u001b[39mraise\u001b[39;00m \u001b[39mValueError\u001b[39;00m(\u001b[39mf\u001b[39m\u001b[39m\"\u001b[39m\u001b[39mWorksheet named \u001b[39m\u001b[39m'\u001b[39m\u001b[39m{\u001b[39;00mname\u001b[39m}\u001b[39;00m\u001b[39m'\u001b[39m\u001b[39m not found\u001b[39m\u001b[39m\"\u001b[39m)\n",
      "\u001b[0;31mValueError\u001b[0m: Worksheet named 'Hoja1' not found"
     ]
    }
   ],
   "source": [
    "df = pd.read_excel(\"\",sheet_name=\"Hoja1\")"
   ]
  },
  {
   "cell_type": "code",
   "execution_count": null,
   "metadata": {},
   "outputs": [
    {
     "data": {
      "text/html": [
       "<div>\n",
       "<style scoped>\n",
       "    .dataframe tbody tr th:only-of-type {\n",
       "        vertical-align: middle;\n",
       "    }\n",
       "\n",
       "    .dataframe tbody tr th {\n",
       "        vertical-align: top;\n",
       "    }\n",
       "\n",
       "    .dataframe thead th {\n",
       "        text-align: right;\n",
       "    }\n",
       "</style>\n",
       "<table border=\"1\" class=\"dataframe\">\n",
       "  <thead>\n",
       "    <tr style=\"text-align: right;\">\n",
       "      <th></th>\n",
       "      <th>NOMBRE</th>\n",
       "      <th>CODIGOMATERIA</th>\n",
       "      <th>UNIDAD</th>\n",
       "      <th>BLOQUE</th>\n",
       "      <th>Coordenadas</th>\n",
       "      <th>LATS</th>\n",
       "      <th>LONGS</th>\n",
       "    </tr>\n",
       "  </thead>\n",
       "  <tbody>\n",
       "    <tr>\n",
       "      <th>0</th>\n",
       "      <td>QUIMIOMETRIA</td>\n",
       "      <td>ESTP1033</td>\n",
       "      <td>Facultad de Ciencias Naturales y Matemáticas</td>\n",
       "      <td>9M</td>\n",
       "      <td>-2.14682, -79.96671</td>\n",
       "      <td>-2.14682</td>\n",
       "      <td>-79.96671</td>\n",
       "    </tr>\n",
       "    <tr>\n",
       "      <th>1</th>\n",
       "      <td>DISEÑO DE CIMENTACIONES SUPERFICIALES Y PROFUNDAS</td>\n",
       "      <td>ARQP1014</td>\n",
       "      <td>Facultad de Ingeniería en Ciencias de la Tierra</td>\n",
       "      <td>9M</td>\n",
       "      <td>-2.14682, -79.96671</td>\n",
       "      <td>-2.14682</td>\n",
       "      <td>-79.96671</td>\n",
       "    </tr>\n",
       "    <tr>\n",
       "      <th>2</th>\n",
       "      <td>INTRODUCCIÓN A LA INDUSTRIA HIDROCARBURÍFERA</td>\n",
       "      <td>PETG1032</td>\n",
       "      <td>Facultad de Ingeniería en Ciencias de la Tierra</td>\n",
       "      <td>13H</td>\n",
       "      <td>-2.14592, -79.96581</td>\n",
       "      <td>-2.14592</td>\n",
       "      <td>-79.96581</td>\n",
       "    </tr>\n",
       "    <tr>\n",
       "      <th>3</th>\n",
       "      <td>ESTRATIGRAFIA Y SEDIMENTACIÓN</td>\n",
       "      <td>GEOG1028</td>\n",
       "      <td>Facultad de Ingeniería en Ciencias de la Tierra</td>\n",
       "      <td>13H</td>\n",
       "      <td>-2.14592, -79.96581</td>\n",
       "      <td>-2.14592</td>\n",
       "      <td>-79.96581</td>\n",
       "    </tr>\n",
       "    <tr>\n",
       "      <th>4</th>\n",
       "      <td>PATOLOGÍA ACUÍCOLA I</td>\n",
       "      <td>ACUG1057</td>\n",
       "      <td>Facultad de Ingeniería Marítima y Ciencias del...</td>\n",
       "      <td>5K</td>\n",
       "      <td>-2.14675, -79.96303</td>\n",
       "      <td>-2.14675</td>\n",
       "      <td>-79.96303</td>\n",
       "    </tr>\n",
       "    <tr>\n",
       "      <th>...</th>\n",
       "      <td>...</td>\n",
       "      <td>...</td>\n",
       "      <td>...</td>\n",
       "      <td>...</td>\n",
       "      <td>...</td>\n",
       "      <td>...</td>\n",
       "      <td>...</td>\n",
       "    </tr>\n",
       "    <tr>\n",
       "      <th>847</th>\n",
       "      <td>PROCESAMIENTO DE FRUTAS Y VEGETALES</td>\n",
       "      <td>ALIG1044</td>\n",
       "      <td>Facultad de Ingeniería en Mecánica y Ciencias ...</td>\n",
       "      <td>12G</td>\n",
       "      <td>-2.14441, -79.96641</td>\n",
       "      <td>-2.14441</td>\n",
       "      <td>-79.96641</td>\n",
       "    </tr>\n",
       "    <tr>\n",
       "      <th>848</th>\n",
       "      <td>PROCESAMIENTO DE CÁRNICOS, PESCADOS Y MARISCOS</td>\n",
       "      <td>ALIG1046</td>\n",
       "      <td>Facultad de Ingeniería en Mecánica y Ciencias ...</td>\n",
       "      <td>12G</td>\n",
       "      <td>-2.14441, -79.96641</td>\n",
       "      <td>-2.14441</td>\n",
       "      <td>-79.96641</td>\n",
       "    </tr>\n",
       "    <tr>\n",
       "      <th>849</th>\n",
       "      <td>PROCESAMIENTO DE LÁCTEOS</td>\n",
       "      <td>ALIG1045</td>\n",
       "      <td>Facultad de Ingeniería en Mecánica y Ciencias ...</td>\n",
       "      <td>12G</td>\n",
       "      <td>-2.14441, -79.96641</td>\n",
       "      <td>-2.14441</td>\n",
       "      <td>-79.96641</td>\n",
       "    </tr>\n",
       "    <tr>\n",
       "      <th>850</th>\n",
       "      <td>INVESTIGACIÓN II</td>\n",
       "      <td>CCAG1004</td>\n",
       "      <td>ESCUELA SUPERIOR POLITECNICA DEL LITORAL</td>\n",
       "      <td>AULAS EDCOM</td>\n",
       "      <td>-2.15149, -79.9464</td>\n",
       "      <td>-2.15149</td>\n",
       "      <td>-79.94640</td>\n",
       "    </tr>\n",
       "    <tr>\n",
       "      <th>851</th>\n",
       "      <td>INVESTIGACIÓN I</td>\n",
       "      <td>CCAG1003</td>\n",
       "      <td>ESCUELA SUPERIOR POLITECNICA DEL LITORAL</td>\n",
       "      <td>AULAS EDCOM</td>\n",
       "      <td>-2.15149, -79.9464</td>\n",
       "      <td>-2.15149</td>\n",
       "      <td>-79.94640</td>\n",
       "    </tr>\n",
       "  </tbody>\n",
       "</table>\n",
       "<p>852 rows × 7 columns</p>\n",
       "</div>"
      ],
      "text/plain": [
       "                                                NOMBRE    CODIGOMATERIA   \n",
       "0                                         QUIMIOMETRIA  ESTP1033         \\\n",
       "1    DISEÑO DE CIMENTACIONES SUPERFICIALES Y PROFUNDAS  ARQP1014          \n",
       "2         INTRODUCCIÓN A LA INDUSTRIA HIDROCARBURÍFERA  PETG1032          \n",
       "3                        ESTRATIGRAFIA Y SEDIMENTACIÓN  GEOG1028          \n",
       "4                                 PATOLOGÍA ACUÍCOLA I  ACUG1057          \n",
       "..                                                 ...              ...   \n",
       "847                PROCESAMIENTO DE FRUTAS Y VEGETALES  ALIG1044          \n",
       "848     PROCESAMIENTO DE CÁRNICOS, PESCADOS Y MARISCOS  ALIG1046          \n",
       "849                           PROCESAMIENTO DE LÁCTEOS  ALIG1045          \n",
       "850                                   INVESTIGACIÓN II  CCAG1004          \n",
       "851                                    INVESTIGACIÓN I  CCAG1003          \n",
       "\n",
       "                                                UNIDAD       BLOQUE   \n",
       "0         Facultad de Ciencias Naturales y Matemáticas          9M   \\\n",
       "1      Facultad de Ingeniería en Ciencias de la Tierra          9M    \n",
       "2      Facultad de Ingeniería en Ciencias de la Tierra          13H   \n",
       "3      Facultad de Ingeniería en Ciencias de la Tierra          13H   \n",
       "4    Facultad de Ingeniería Marítima y Ciencias del...          5K    \n",
       "..                                                 ...          ...   \n",
       "847  Facultad de Ingeniería en Mecánica y Ciencias ...          12G   \n",
       "848  Facultad de Ingeniería en Mecánica y Ciencias ...          12G   \n",
       "849  Facultad de Ingeniería en Mecánica y Ciencias ...          12G   \n",
       "850           ESCUELA SUPERIOR POLITECNICA DEL LITORAL  AULAS EDCOM   \n",
       "851           ESCUELA SUPERIOR POLITECNICA DEL LITORAL  AULAS EDCOM   \n",
       "\n",
       "             Coordenadas     LATS     LONGS  \n",
       "0    -2.14682, -79.96671 -2.14682 -79.96671  \n",
       "1    -2.14682, -79.96671 -2.14682 -79.96671  \n",
       "2    -2.14592, -79.96581 -2.14592 -79.96581  \n",
       "3    -2.14592, -79.96581 -2.14592 -79.96581  \n",
       "4    -2.14675, -79.96303 -2.14675 -79.96303  \n",
       "..                   ...      ...       ...  \n",
       "847  -2.14441, -79.96641 -2.14441 -79.96641  \n",
       "848  -2.14441, -79.96641 -2.14441 -79.96641  \n",
       "849  -2.14441, -79.96641 -2.14441 -79.96641  \n",
       "850   -2.15149, -79.9464 -2.15149 -79.94640  \n",
       "851   -2.15149, -79.9464 -2.15149 -79.94640  \n",
       "\n",
       "[852 rows x 7 columns]"
      ]
     },
     "execution_count": 101,
     "metadata": {},
     "output_type": "execute_result"
    }
   ],
   "source": [
    "df"
   ]
  },
  {
   "cell_type": "code",
   "execution_count": null,
   "metadata": {},
   "outputs": [
    {
     "data": {
      "text/plain": [
       "0               9M\n",
       "1               9M\n",
       "2              13H\n",
       "3              13H\n",
       "4               5K\n",
       "          ...     \n",
       "847            12G\n",
       "848            12G\n",
       "849            12G\n",
       "850    AULAS EDCOM\n",
       "851    AULAS EDCOM\n",
       "Name: BLOQUE, Length: 852, dtype: object"
      ]
     },
     "execution_count": 102,
     "metadata": {},
     "output_type": "execute_result"
    }
   ],
   "source": [
    "df['BLOQUE']=[x.strip() for x in df['BLOQUE']]\n",
    "df['BLOQUE']"
   ]
  },
  {
   "cell_type": "code",
   "execution_count": null,
   "metadata": {},
   "outputs": [
    {
     "data": {
      "text/html": [
       "<div>\n",
       "<style scoped>\n",
       "    .dataframe tbody tr th:only-of-type {\n",
       "        vertical-align: middle;\n",
       "    }\n",
       "\n",
       "    .dataframe tbody tr th {\n",
       "        vertical-align: top;\n",
       "    }\n",
       "\n",
       "    .dataframe thead th {\n",
       "        text-align: right;\n",
       "    }\n",
       "</style>\n",
       "<table border=\"1\" class=\"dataframe\">\n",
       "  <thead>\n",
       "    <tr style=\"text-align: right;\">\n",
       "      <th></th>\n",
       "      <th>NOMBRE</th>\n",
       "      <th>CODIGOMATERIA</th>\n",
       "      <th>UNIDAD</th>\n",
       "      <th>BLOQUE</th>\n",
       "      <th>Coordenadas</th>\n",
       "      <th>LATS</th>\n",
       "      <th>LONGS</th>\n",
       "    </tr>\n",
       "  </thead>\n",
       "  <tbody>\n",
       "    <tr>\n",
       "      <th>0</th>\n",
       "      <td>QUIMIOMETRIA</td>\n",
       "      <td>ESTP1033</td>\n",
       "      <td>Facultad de Ciencias Naturales y Matemáticas</td>\n",
       "      <td>9M</td>\n",
       "      <td>-2.14682, -79.96671</td>\n",
       "      <td>-2.14682</td>\n",
       "      <td>-79.96671</td>\n",
       "    </tr>\n",
       "  </tbody>\n",
       "</table>\n",
       "</div>"
      ],
      "text/plain": [
       "         NOMBRE    CODIGOMATERIA   \n",
       "0  QUIMIOMETRIA  ESTP1033         \\\n",
       "\n",
       "                                         UNIDAD BLOQUE          Coordenadas   \n",
       "0  Facultad de Ciencias Naturales y Matemáticas     9M  -2.14682, -79.96671  \\\n",
       "\n",
       "      LATS     LONGS  \n",
       "0 -2.14682 -79.96671  "
      ]
     },
     "execution_count": 103,
     "metadata": {},
     "output_type": "execute_result"
    }
   ],
   "source": [
    "lat1=df[(df['NOMBRE']==\"QUIMIOMETRIA\") & (df['BLOQUE']==\"9M\")]\n",
    "lat1"
   ]
  },
  {
   "cell_type": "code",
   "execution_count": null,
   "metadata": {},
   "outputs": [
    {
     "name": "stdout",
     "output_type": "stream",
     "text": [
      "-2.14682 -2.14521 -79.96671 -79.9649\n"
     ]
    }
   ],
   "source": [
    "lat1=df[(df['NOMBRE']==\"QUIMIOMETRIA\") & (df['BLOQUE']==\"9M\")]['LATS'].values[0]\n",
    "lon1=df[(df['NOMBRE']==\"QUIMIOMETRIA\") & (df['BLOQUE']==\"9M\")]['LONGS'].values[0]\n",
    "lat2=df[(df['NOMBRE']==\"GEOMÁTICA\") & (df['BLOQUE']==\"13C\")]['LATS'].values[0]\n",
    "lon2=df[(df['NOMBRE']==\"GEOMÁTICA\") & (df['BLOQUE']==\"13C\")]['LONGS'].values[0]\n",
    "print(lat1,lat2,lon1,lon2)"
   ]
  },
  {
   "cell_type": "code",
   "execution_count": null,
   "metadata": {},
   "outputs": [],
   "source": [
    "df.to_excel(\"planificacion.xlsx\")"
   ]
  }
 ],
 "metadata": {
  "kernelspec": {
   "display_name": "espol_env",
   "language": "python",
   "name": "python3"
  },
  "language_info": {
   "codemirror_mode": {
    "name": "ipython",
    "version": 3
   },
   "file_extension": ".py",
   "mimetype": "text/x-python",
   "name": "python",
   "nbconvert_exporter": "python",
   "pygments_lexer": "ipython3",
   "version": "3.11.3"
  },
  "orig_nbformat": 4
 },
 "nbformat": 4,
 "nbformat_minor": 2
}
